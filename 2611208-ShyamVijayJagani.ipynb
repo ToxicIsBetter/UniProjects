{
 "cells": [
  {
   "cell_type": "markdown",
   "metadata": {},
   "source": [
    "Q1"
   ]
  },
  {
   "cell_type": "code",
   "execution_count": 20,
   "metadata": {},
   "outputs": [
    {
     "name": "stdout",
     "output_type": "stream",
     "text": [
      "Password accepted.\n",
      "\n",
      "Your password is: bolt\n",
      "\n",
      "Password is valid.\n"
     ]
    }
   ],
   "source": [
    "#Student Number: 2611208\n",
    "#Name: Shyam Vijay Jagani\n",
    "\n",
    "# Q1 = Password Checker\n",
    "#user enters password\n",
    "pwd = input(\"Enter your password: \")\n",
    "\n",
    "#password is checked for length in a while loop\n",
    "while len(pwd ) > 4:\n",
    "    pwd = input(\"Length of password should be less than 4 characters. Please try again:\")\n",
    "\n",
    "#password is printed.\n",
    "print(\"Password accepted.\")\n",
    "print()\n",
    "print(\"Your password is:\", pwd)\n",
    "print()\n",
    "\n",
    "#password is checked to define if it is valid.\n",
    "if(pwd == \"BOLT\" or pwd == \"bolt\"):\n",
    "    print(\"Password is valid.\")\n",
    "else:\n",
    "    print(\"Password is not valid.\")"
   ]
  },
  {
   "cell_type": "code",
   "execution_count": 21,
   "metadata": {},
   "outputs": [
    {
     "name": "stdout",
     "output_type": "stream",
     "text": [
      "The price of Xbox is: 429\n"
     ]
    }
   ],
   "source": [
    "# Q2 = Dictionary\n",
    "\n",
    "#dictionary is created and values assigned.\n",
    "prices = {\"Playstation 5\": 450, \"Xbox\":429, \"Nintendo Switch\": 259}\n",
    "\n",
    "#printing the price of xbox from the dictionary\n",
    "print(\"The price of Xbox is:\",prices.get(\"Xbox\"))\n"
   ]
  }
 ],
 "metadata": {
  "kernelspec": {
   "display_name": "Python 3",
   "language": "python",
   "name": "python3"
  },
  "language_info": {
   "codemirror_mode": {
    "name": "ipython",
    "version": 3
   },
   "file_extension": ".py",
   "mimetype": "text/x-python",
   "name": "python",
   "nbconvert_exporter": "python",
   "pygments_lexer": "ipython3",
   "version": "3.11.9"
  }
 },
 "nbformat": 4,
 "nbformat_minor": 2
}
