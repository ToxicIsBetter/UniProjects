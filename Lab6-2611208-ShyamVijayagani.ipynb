{
 "cells": [
  {
   "cell_type": "markdown",
   "metadata": {},
   "source": [
    "Section 1.\n",
    "Write python code to read the SampleDataMultiLines.csv file."
   ]
  },
  {
   "cell_type": "code",
   "execution_count": 1,
   "metadata": {},
   "outputs": [],
   "source": [
    "#import the csv module.\n",
    "import csv\n",
    "\n",
    "#open the csv file as a read-only file.\n",
    "file = open('SampleDataMultiLines.csv', \"r\")\n",
    "\n",
    "#read the data in the file.\n",
    "read_sample = csv.reader(file)\n",
    "    "
   ]
  },
  {
   "cell_type": "markdown",
   "metadata": {},
   "source": [
    "Section 2.\n",
    "In this Section, we have to display the first 5 rows of data from the file."
   ]
  },
  {
   "cell_type": "code",
   "execution_count": 2,
   "metadata": {},
   "outputs": [
    {
     "name": "stdout",
     "output_type": "stream",
     "text": [
      "['Samples NO.', 'Feature1', 'Feature2', 'Feature3', 'Feature4', 'Feature5', 'Feature6', 'Feature7', 'Feature8', 'Feature9', 'Feature10']\n",
      "['1', '20', '30', '40', '50', '-50', '-60', '90', '100', '0', '0']\n",
      "['2', '30', '40', '50', '60', '-40', '-50', '100', '110', '0', '']\n",
      "['3', '40', '50', '60', '70', '-30', '-40', '110', '120', '0', '']\n",
      "['4', '50', '60', '70', '80', '-20', '-30', '120', '130', '0', '']\n",
      "['5', '60', '70', '80', '90', '-10', '-20', '130', '140', '0', '']\n"
     ]
    }
   ],
   "source": [
    "#print the first 5 rows\n",
    "#declaring a list to store the data.\n",
    "rows = []\n",
    "\n",
    "#adding the data to the list row by row.\n",
    "for row in read_sample:\n",
    "    rows.append(row)\n",
    "\n",
    "#declaring a variable to stop the printing.\n",
    "a=0\n",
    "\n",
    "#printing the rows from the list until the if condition is satisfied.\n",
    "for row in rows:\n",
    "    if(a<=5):\n",
    "        print(row)\n",
    "        a = a+1"
   ]
  },
  {
   "cell_type": "markdown",
   "metadata": {},
   "source": [
    "Section 3.\n",
    "Write a code to create a new file called \"Duplicate.csv\""
   ]
  },
  {
   "cell_type": "code",
   "execution_count": 3,
   "metadata": {},
   "outputs": [],
   "source": [
    "#creating the new file.\n",
    "new_file = open(\"Duplicate.csv\", \"w+\")"
   ]
  },
  {
   "cell_type": "markdown",
   "metadata": {},
   "source": [
    "Section 4.\n",
    "Write python code to copy data from \"SampleDataMultiLines.csv\" and write the data into the new file, \"Duplicate.csv\""
   ]
  },
  {
   "cell_type": "code",
   "execution_count": 4,
   "metadata": {},
   "outputs": [],
   "source": [
    "#selecting the new file as a writer.\n",
    "with open(\"Duplicate.csv\", \"w\", newline=\"\") as copied_file:\n",
    "    csvwriter = csv.writer(copied_file)\n",
    "    csvwriter.writerows(rows)\n",
    "    "
   ]
  },
  {
   "cell_type": "code",
   "execution_count": 5,
   "metadata": {},
   "outputs": [
    {
     "data": {
      "text/plain": [
       "'Samples NO.,Feature1,Feature2,Feature3,Feature4,Feature5,Feature6,Feature7,Feature8,Feature9,Feature10\\n1,20,30,40,50,-50,-60,90,100,0,0\\n2,30,40,50,60,-40,-50,100,110,0,\\n3,40,50,60,70,-30,-40,110,120,0,\\n4,50,60,70,80,-20,-30,120,130,0,\\n5,60,70,80,90,-10,-20,130,140,0,\\n6,70,80,90,100,0,-10,140,150,0,\\n7,80,90,100,110,10,0,150,160,0,\\n8,90,100,110,120,20,10,160,170,0,\\n9,100,110,120,130,30,20,170,180,0,\\n10,110,120,130,140,40,30,180,190,0,\\n11,120,130,140,150,50,40,190,200,0,\\n12,130,140,150,160,60,50,200,210,0,\\n13,140,150,160,170,70,60,210,220,0,\\n14,150,160,170,180,80,70,220,230,0,\\n15,160,170,180,190,90,80,230,240,0,\\n16,170,180,190,200,100,90,240,250,0,\\n17,180,190,200,210,110,100,250,260,0,\\n18,190,200,210,220,120,110,260,270,0,\\n19,200,210,220,230,130,120,270,280,0,\\n20,210,220,230,240,140,130,280,290,0,\\n21,220,230,240,250,150,140,290,300,0,\\n22,230,240,250,260,160,150,300,310,0,\\n23,240,250,260,270,170,160,310,320,0,\\n24,250,260,270,280,180,170,320,330,0,\\n25,260,270,280,290,190,180,330,340,0,\\n26,270,280,290,300,200,190,340,350,0,\\n27,280,290,300,310,210,200,350,360,0,\\n28,290,300,310,320,220,210,360,370,0,\\n29,300,310,320,330,230,220,370,380,0,\\n30,310,320,330,340,240,230,380,390,0,\\n31,320,330,340,350,250,240,390,400,0,\\n32,330,340,350,360,260,250,400,410,0,\\n33,340,350,360,370,270,260,410,420,0,\\n34,350,360,370,380,280,270,420,430,0,\\n35,360,370,380,390,290,280,430,440,0,\\n36,370,380,390,400,300,290,440,450,0,\\n37,380,390,400,410,310,300,450,460,0,\\n38,390,400,410,420,320,310,460,470,0,\\n39,400,410,420,430,330,320,470,480,0,\\n40,410,420,430,440,340,330,480,490,0,\\n41,420,430,440,450,350,340,490,500,0,\\n42,430,440,450,460,360,350,500,510,0,\\n43,440,450,460,470,370,360,510,520,0,\\n44,450,460,470,480,380,370,520,530,0,\\n45,460,470,480,490,390,380,530,540,0,\\n46,470,480,490,500,400,390,540,550,0,\\n47,480,490,500,510,410,400,550,560,0,\\n48,490,500,510,520,420,410,560,570,0,\\n49,500,510,520,530,430,420,570,580,0,\\n50,510,520,530,540,440,430,580,590,0,\\n'"
      ]
     },
     "execution_count": 5,
     "metadata": {},
     "output_type": "execute_result"
    }
   ],
   "source": [
    "#reading the new file.\n",
    "copied_file = open(\"Duplicate.csv\", \"r\")\n",
    "copied_file.read()"
   ]
  },
  {
   "cell_type": "markdown",
   "metadata": {},
   "source": [
    "SECTION 5.\n",
    "Create a function called CheckFiles. This function should enable you to compare the number of rows of both files and display an appropriate message if the number of rows in the files SampleDataMultiLines.csvand Duplicate.csv, are the same."
   ]
  },
  {
   "cell_type": "code",
   "execution_count": 6,
   "metadata": {},
   "outputs": [],
   "source": [
    "#defining the function.\n",
    "def CheckFiles(first_file: str, second_file: str) -> str:\n",
    "    #open the files as read-only files.\n",
    "    with open(first_file, \"r\") as f1, open(second_file, \"r\") as f2:\n",
    "\n",
    "        #read the data in the files.\n",
    "        read_sample = csv.reader(f1)\n",
    "        read_copied = csv.reader(f2)\n",
    "\n",
    "        #compare the data in the files.\n",
    "        for row1, row2 in zip(read_sample, read_copied):\n",
    "            #check if the files have the same data.\n",
    "            if (row1 == row2):\n",
    "                #return the output.\n",
    "                out = (\"The files have the same data.\")\n",
    "                return out\n",
    "            #if the files do not have the same data.\n",
    "            else:\n",
    "                out = (\"The files do not have the same data.\")\n",
    "                return out"
   ]
  },
  {
   "cell_type": "code",
   "execution_count": 7,
   "metadata": {},
   "outputs": [
    {
     "data": {
      "text/plain": [
       "'The files have the same data.'"
      ]
     },
     "execution_count": 7,
     "metadata": {},
     "output_type": "execute_result"
    }
   ],
   "source": [
    "#calling the function.\n",
    "CheckFiles(\"SampleDataMultiLines.csv\", \"Duplicate.csv\")"
   ]
  },
  {
   "cell_type": "code",
   "execution_count": null,
   "metadata": {},
   "outputs": [],
   "source": []
  }
 ],
 "metadata": {
  "kernelspec": {
   "display_name": "Python 3",
   "language": "python",
   "name": "python3"
  },
  "language_info": {
   "codemirror_mode": {
    "name": "ipython",
    "version": 3
   },
   "file_extension": ".py",
   "mimetype": "text/x-python",
   "name": "python",
   "nbconvert_exporter": "python",
   "pygments_lexer": "ipython3",
   "version": "3.11.9"
  }
 },
 "nbformat": 4,
 "nbformat_minor": 2
}
