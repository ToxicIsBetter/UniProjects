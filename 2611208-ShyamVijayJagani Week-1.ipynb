{
 "cells": [
  {
   "cell_type": "code",
   "execution_count": 1,
   "id": "db080537",
   "metadata": {
    "scrolled": true
   },
   "outputs": [
    {
     "data": {
      "text/plain": [
       "4"
      ]
     },
     "execution_count": 1,
     "metadata": {},
     "output_type": "execute_result"
    }
   ],
   "source": [
    "4"
   ]
  },
  {
   "cell_type": "code",
   "execution_count": 2,
   "id": "a920836e",
   "metadata": {
    "scrolled": false
   },
   "outputs": [
    {
     "name": "stdout",
     "output_type": "stream",
     "text": [
      "4\n"
     ]
    }
   ],
   "source": [
    "print(4)"
   ]
  },
  {
   "cell_type": "markdown",
   "id": "e5f902f8",
   "metadata": {},
   "source": [
    "#### "
   ]
  },
  {
   "cell_type": "code",
   "execution_count": 3,
   "id": "5d8d1f9d",
   "metadata": {},
   "outputs": [
    {
     "data": {
      "text/plain": [
       "7"
      ]
     },
     "execution_count": 3,
     "metadata": {},
     "output_type": "execute_result"
    }
   ],
   "source": [
    "3+4"
   ]
  },
  {
   "cell_type": "code",
   "execution_count": 4,
   "id": "dc70a697",
   "metadata": {},
   "outputs": [
    {
     "data": {
      "text/plain": [
       "61.7"
      ]
     },
     "execution_count": 4,
     "metadata": {},
     "output_type": "execute_result"
    }
   ],
   "source": [
    "1+2.5+3+5.2+10+40"
   ]
  },
  {
   "cell_type": "code",
   "execution_count": 5,
   "id": "806b2695",
   "metadata": {},
   "outputs": [
    {
     "name": "stdout",
     "output_type": "stream",
     "text": [
      "61.7\n"
     ]
    }
   ],
   "source": [
    "print(1+2.5+3+5.2+10+40)"
   ]
  },
  {
   "cell_type": "code",
   "execution_count": 6,
   "id": "7681fdfb",
   "metadata": {},
   "outputs": [
    {
     "data": {
      "text/plain": [
       "'19'"
      ]
     },
     "execution_count": 6,
     "metadata": {},
     "output_type": "execute_result"
    }
   ],
   "source": [
    "\"19\""
   ]
  },
  {
   "cell_type": "code",
   "execution_count": 7,
   "id": "7a86d16e",
   "metadata": {},
   "outputs": [
    {
     "data": {
      "text/plain": [
       "'19'"
      ]
     },
     "execution_count": 7,
     "metadata": {},
     "output_type": "execute_result"
    }
   ],
   "source": [
    "'19'"
   ]
  },
  {
   "cell_type": "code",
   "execution_count": 8,
   "id": "cae2a793",
   "metadata": {},
   "outputs": [
    {
     "name": "stdout",
     "output_type": "stream",
     "text": [
      "19\n"
     ]
    }
   ],
   "source": [
    "print('19')"
   ]
  },
  {
   "cell_type": "code",
   "execution_count": 9,
   "id": "c5f2b6fe",
   "metadata": {},
   "outputs": [
    {
     "name": "stdout",
     "output_type": "stream",
     "text": [
      "19\n"
     ]
    }
   ],
   "source": [
    "print(\"19\")"
   ]
  },
  {
   "cell_type": "code",
   "execution_count": 10,
   "id": "78e3a838",
   "metadata": {},
   "outputs": [
    {
     "data": {
      "text/plain": [
       "'ABC'"
      ]
     },
     "execution_count": 10,
     "metadata": {},
     "output_type": "execute_result"
    }
   ],
   "source": [
    "\"ABC\""
   ]
  },
  {
   "cell_type": "code",
   "execution_count": 11,
   "id": "2f997388",
   "metadata": {},
   "outputs": [
    {
     "data": {
      "text/plain": [
       "'ABC'"
      ]
     },
     "execution_count": 11,
     "metadata": {},
     "output_type": "execute_result"
    }
   ],
   "source": [
    "'ABC'"
   ]
  },
  {
   "cell_type": "code",
   "execution_count": 12,
   "id": "8f0d8478",
   "metadata": {},
   "outputs": [
    {
     "data": {
      "text/plain": [
       "15"
      ]
     },
     "execution_count": 12,
     "metadata": {},
     "output_type": "execute_result"
    }
   ],
   "source": [
    "5+10"
   ]
  },
  {
   "cell_type": "code",
   "execution_count": 13,
   "id": "cdfccaec",
   "metadata": {},
   "outputs": [
    {
     "data": {
      "text/plain": [
       "'510'"
      ]
     },
     "execution_count": 13,
     "metadata": {},
     "output_type": "execute_result"
    }
   ],
   "source": [
    "'5' + '10'"
   ]
  },
  {
   "cell_type": "code",
   "execution_count": 15,
   "id": "2039e07f",
   "metadata": {},
   "outputs": [
    {
     "data": {
      "text/plain": [
       "15"
      ]
     },
     "execution_count": 15,
     "metadata": {},
     "output_type": "execute_result"
    }
   ],
   "source": [
    "5 + int('10')"
   ]
  },
  {
   "cell_type": "code",
   "execution_count": 16,
   "id": "cc2cbad5",
   "metadata": {},
   "outputs": [
    {
     "data": {
      "text/plain": [
       "'510'"
      ]
     },
     "execution_count": 16,
     "metadata": {},
     "output_type": "execute_result"
    }
   ],
   "source": [
    "'5' + str(10)"
   ]
  },
  {
   "cell_type": "code",
   "execution_count": 17,
   "id": "2479cfa9",
   "metadata": {},
   "outputs": [],
   "source": [
    "a = 2\n",
    "b = 5"
   ]
  },
  {
   "cell_type": "code",
   "execution_count": 18,
   "id": "942bc7c7",
   "metadata": {},
   "outputs": [
    {
     "name": "stdout",
     "output_type": "stream",
     "text": [
      "2\n",
      "5\n"
     ]
    }
   ],
   "source": [
    "print(a)\n",
    "print(b)"
   ]
  },
  {
   "cell_type": "code",
   "execution_count": 19,
   "id": "2d7dd008",
   "metadata": {},
   "outputs": [
    {
     "name": "stdout",
     "output_type": "stream",
     "text": [
      "the value of \"a\" is 2\n"
     ]
    }
   ],
   "source": [
    "print('the value of \"a\" is',a)"
   ]
  },
  {
   "cell_type": "code",
   "execution_count": 20,
   "id": "bcd1e0b3",
   "metadata": {},
   "outputs": [
    {
     "name": "stdout",
     "output_type": "stream",
     "text": [
      "The value of \"b\" is 5\n"
     ]
    }
   ],
   "source": [
    "print('The value of \"b\" is',b)"
   ]
  },
  {
   "cell_type": "code",
   "execution_count": 21,
   "id": "c968a56b",
   "metadata": {},
   "outputs": [
    {
     "name": "stdout",
     "output_type": "stream",
     "text": [
      "A\n",
      "B\n",
      "C\n",
      "\n"
     ]
    }
   ],
   "source": [
    "print('A\\nB\\nC\\n')"
   ]
  },
  {
   "cell_type": "code",
   "execution_count": 22,
   "id": "0c438ec7",
   "metadata": {},
   "outputs": [
    {
     "name": "stdout",
     "output_type": "stream",
     "text": [
      "D\tE\tF\n"
     ]
    }
   ],
   "source": [
    "print('D\\tE\\tF')"
   ]
  },
  {
   "cell_type": "code",
   "execution_count": 25,
   "id": "f3af2297",
   "metadata": {},
   "outputs": [
    {
     "name": "stdout",
     "output_type": "stream",
     "text": [
      "SA\b\n",
      "HB\b\n",
      "YC\b\n",
      "AD\b\n",
      "ME\b\n"
     ]
    }
   ],
   "source": [
    "print('SA\\b\\nHB\\b\\nYC\\b\\nAD\\b\\nME\\b')"
   ]
  },
  {
   "cell_type": "code",
   "execution_count": 26,
   "id": "0a803cd5",
   "metadata": {},
   "outputs": [
    {
     "name": "stdout",
     "output_type": "stream",
     "text": [
      "HEHE\u0007 HEHE\u0007 HEHE\u0007\n"
     ]
    }
   ],
   "source": [
    "print('HEHE\\a HEHE\\a HEHE\\a')"
   ]
  },
  {
   "cell_type": "code",
   "execution_count": null,
   "id": "24fb1851",
   "metadata": {},
   "outputs": [],
   "source": []
  }
 ],
 "metadata": {
  "kernelspec": {
   "display_name": "Python 3 (ipykernel)",
   "language": "python",
   "name": "python3"
  },
  "language_info": {
   "codemirror_mode": {
    "name": "ipython",
    "version": 3
   },
   "file_extension": ".py",
   "mimetype": "text/x-python",
   "name": "python",
   "nbconvert_exporter": "python",
   "pygments_lexer": "ipython3",
   "version": "3.10.9"
  }
 },
 "nbformat": 4,
 "nbformat_minor": 5
}
