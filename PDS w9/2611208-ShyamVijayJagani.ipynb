{
 "cells": [
  {
   "cell_type": "code",
   "execution_count": 1,
   "metadata": {},
   "outputs": [
    {
     "name": "stdout",
     "output_type": "stream",
     "text": [
      "first_name surname gender rank type basic_salary hours_worked\n",
      "John Smiths M manager monthly 45000.00\n",
      "Sunil Bates M senor hourly 700.00 45\n",
      "Eva Leung F officer monthly 30500.00\n",
      "\n"
     ]
    }
   ],
   "source": [
    "file = open(\"Employee.txt\", \"r\")\n",
    "print(file.read())\n",
    "file.close()"
   ]
  },
  {
   "cell_type": "code",
   "execution_count": 2,
   "metadata": {},
   "outputs": [
    {
     "name": "stdout",
     "output_type": "stream",
     "text": [
      "[['first_name', 'surname', 'gender', 'rank', 'type', 'basic_salary', 'hours_worked'], ['John', 'Smiths', 'M', 'manager', 'monthly', '45000.00'], ['Sunil', 'Bates', 'M', 'senor', 'hourly', '700.00', '45'], ['Eva', 'Leung', 'F', 'officer', 'monthly', '30500.00']]\n"
     ]
    }
   ],
   "source": [
    "emp = []\n",
    "\n",
    "with open(\"Employee.txt\", \"r\") as file:\n",
    "    for line in file:\n",
    "        data = line.strip().split()\n",
    "        emp.append(data)\n",
    "\n",
    "print(emp)"
   ]
  },
  {
   "cell_type": "code",
   "execution_count": 3,
   "metadata": {},
   "outputs": [],
   "source": [
    "first_name = 0\n",
    "surname = 1\n",
    "gender = 2\n",
    "rank = 3\n",
    "type = 4\n",
    "basic_salary = 5\n",
    "hours_worked = 6"
   ]
  },
  {
   "cell_type": "code",
   "execution_count": 4,
   "metadata": {},
   "outputs": [
    {
     "name": "stdout",
     "output_type": "stream",
     "text": [
      "['first_name', 'surname', 'gender', 'rank', 'type', 'basic_salary', 'hours_worked']\n",
      "['John', 'Smiths', 'M', 'manager', 'monthly', 45000.0]\n",
      "['Sunil', 'Bates', 'M', 'senor', 'hourly', 700.0, 45]\n",
      "['Eva', 'Leung', 'F', 'officer', 'monthly', 30500.0]\n"
     ]
    }
   ],
   "source": [
    "for employee in emp[1:]:\n",
    "    try:\n",
    "        employee[basic_salary] = float(employee[basic_salary])\n",
    "        employee[hours_worked] = int(employee[hours_worked])\n",
    "    except: \n",
    "        ValueError\n",
    "\n",
    "for row in emp:\n",
    "    print(row)        "
   ]
  },
  {
   "cell_type": "code",
   "execution_count": 5,
   "metadata": {},
   "outputs": [
    {
     "name": "stdout",
     "output_type": "stream",
     "text": [
      "Employee Index 2: 31500.0\n"
     ]
    }
   ],
   "source": [
    "def hre_basic() -> dict:\n",
    "    temp_dict = {}\n",
    "    index = 1\n",
    "\n",
    "    for employee in emp[1:]:\n",
    "        if employee[type] == 'hourly':\n",
    "            emp_salary = employee[basic_salary] * employee[hours_worked] \n",
    "        else:\n",
    "            emp_salary = -1\n",
    "        temp_dict[index] = emp_salary\n",
    "        index += 1\n",
    "    return temp_dict\n",
    "\n",
    "emp_sal = hre_basic()\n",
    "emp_sal = {key: value for key, value in sorted(emp_sal.items()) if value != -1}\n",
    "\n",
    "for key, value in emp_sal.items():\n",
    "    print(f\"Employee Index {key}: {value}\")\n"
   ]
  },
  {
   "cell_type": "code",
   "execution_count": 6,
   "metadata": {},
   "outputs": [],
   "source": [
    "def calculate_bonus(emp_index: int, bonus_percentage) -> float:\n",
    "    if emp_index in emp_sal.keys():\n",
    "        salary = float(emp_sal[emp_index])\n",
    "    else:\n",
    "        salary = float(emp[emp_index][basic_salary])\n",
    "\n",
    "    bonus = float(salary * bonus_percentage)\n",
    "    total_salary = bonus + salary\n",
    "    return total_salary"
   ]
  },
  {
   "cell_type": "code",
   "execution_count": 9,
   "metadata": {},
   "outputs": [
    {
     "name": "stdout",
     "output_type": "stream",
     "text": [
      "\n",
      "File written successfully\n",
      "\n",
      "first_name surname gender Total_Salary\n",
      "John Smiths M 51750.0\n",
      "Sunil Bates M 36225.0\n",
      "Eva Leung F 36600.0\n",
      "\n"
     ]
    }
   ],
   "source": [
    "with open(\"TotalSalary.txt\", \"w+\") as new_file:\n",
    "\n",
    "    new_file.write(\"first_name surname gender Total_Salary\\n\")\n",
    "\n",
    "    for employee in emp[1:]:\n",
    "            \n",
    "        if employee[rank] == 'officer':\n",
    "            bonus_percentage = 0.20\n",
    "        else:\n",
    "            bonus_percentage = 0.15\n",
    "\n",
    "        total_salary = calculate_bonus(emp.index(employee), bonus_percentage)\n",
    "\n",
    "        new_file.write(f\"{employee[first_name]} {employee[surname]} {employee[gender]} {total_salary}\\n\")   \n",
    "\n",
    "    new_file.close()\n",
    "    print()\n",
    "    print(\"File written successfully\")\n",
    "    print()\n",
    "    with open(\"TotalSalary.txt\", \"r\") as new_file:\n",
    "        print(new_file.read())"
   ]
  },
  {
   "cell_type": "code",
   "execution_count": null,
   "metadata": {},
   "outputs": [],
   "source": [
    "with open(\"TotalSalary.txt\", \"r\") as new_file:\n",
    "    "
   ]
  }
 ],
 "metadata": {
  "kernelspec": {
   "display_name": "Python 3",
   "language": "python",
   "name": "python3"
  },
  "language_info": {
   "codemirror_mode": {
    "name": "ipython",
    "version": 3
   },
   "file_extension": ".py",
   "mimetype": "text/x-python",
   "name": "python",
   "nbconvert_exporter": "python",
   "pygments_lexer": "ipython3",
   "version": "3.11.9"
  }
 },
 "nbformat": 4,
 "nbformat_minor": 2
}
