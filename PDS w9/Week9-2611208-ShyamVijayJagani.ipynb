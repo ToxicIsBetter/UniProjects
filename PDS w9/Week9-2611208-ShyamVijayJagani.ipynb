{
 "cells": [
  {
   "cell_type": "markdown",
   "metadata": {},
   "source": [
    "Q1."
   ]
  },
  {
   "cell_type": "code",
   "execution_count": 1,
   "metadata": {},
   "outputs": [],
   "source": [
    "# Function to read and display the contents of a specified file\n",
    "#defining a function to print the contents of the file\n",
    "\n",
    "def printfile(file):\n",
    "    txt_file = open(file, \"r\") \n",
    "    print(txt_file.read())\n",
    "    txt_file.close()"
   ]
  },
  {
   "cell_type": "code",
   "execution_count": 2,
   "metadata": {},
   "outputs": [
    {
     "name": "stdout",
     "output_type": "stream",
     "text": [
      "first_name surname gender rank type basic_salary hours_worked\n",
      "John Smiths M manager monthly 45000.00\n",
      "Sunil Bates M senor hourly 700.00 45\n",
      "Eva Leung F officer monthly 30500.00\n",
      "\n"
     ]
    }
   ],
   "source": [
    "# Function to read and display the contents of a specified file\n",
    "printfile(\"Employee.txt\")"
   ]
  },
  {
   "cell_type": "code",
   "execution_count": 3,
   "metadata": {},
   "outputs": [],
   "source": [
    "# Reading employee data from the file and storing it in a list\n",
    "emp = []\n",
    "\n",
    "with open(\"Employee.txt\", \"r\") as file:\n",
    "    for line in file:\n",
    "        data = line.strip().split()\n",
    "        emp.append(data)"
   ]
  },
  {
   "cell_type": "code",
   "execution_count": 4,
   "metadata": {},
   "outputs": [],
   "source": [
    "# Defining index constants for accessing employee attributes\n",
    "first_name = 0\n",
    "surname = 1\n",
    "gender = 2\n",
    "rank = 3\n",
    "type = 4\n",
    "basic_salary = 5\n",
    "hours_worked = 6"
   ]
  },
  {
   "cell_type": "code",
   "execution_count": 5,
   "metadata": {},
   "outputs": [
    {
     "name": "stdout",
     "output_type": "stream",
     "text": [
      "['first_name', 'surname', 'gender', 'rank', 'type', 'basic_salary', 'hours_worked']\n",
      "['John', 'Smiths', 'M', 'manager', 'monthly', 45000.0]\n",
      "['Sunil', 'Bates', 'M', 'senor', 'hourly', 700.0, 45]\n",
      "['Eva', 'Leung', 'F', 'officer', 'monthly', 30500.0]\n"
     ]
    }
   ],
   "source": [
    "# Converting numeric data in the employee list to appropriate types\n",
    "for employee in emp[1:]:\n",
    "    try:\n",
    "        employee[basic_salary] = float(employee[basic_salary])\n",
    "        employee[hours_worked] = int(employee[hours_worked])\n",
    "    except: \n",
    "        ValueError\n",
    "\n",
    "for row in emp:\n",
    "    print(row)        "
   ]
  },
  {
   "cell_type": "code",
   "execution_count": 6,
   "metadata": {},
   "outputs": [],
   "source": [
    "# Function to calculate hourly-based salaries for employees\n",
    "# Returns a dictionary with index and calculated salaries\n",
    "def hre_basic() -> dict:\n",
    "    temp_dict = {}\n",
    "    index = 1\n",
    "\n",
    "    for employee in emp[1:]:\n",
    "        if employee[type] == 'hourly':\n",
    "            emp_salary = employee[basic_salary] * employee[hours_worked] \n",
    "        else:\n",
    "            emp_salary = -1\n",
    "        temp_dict[index] = emp_salary\n",
    "        index += 1\n",
    "    return temp_dict"
   ]
  },
  {
   "cell_type": "code",
   "execution_count": 7,
   "metadata": {},
   "outputs": [],
   "source": [
    "# keeping only the hourly based salaries in the dictionary\n",
    "emp_sal = hre_basic()\n",
    "emp_sal = {key: value for key, value in sorted(emp_sal.items()) if value != -1}"
   ]
  },
  {
   "cell_type": "code",
   "execution_count": 8,
   "metadata": {},
   "outputs": [],
   "source": [
    "# Function to calculate total salary including bonus\n",
    "# Accepts employee index and bonus percentage as input\n",
    "def calculate_bonus(emp_index: int, bonus_percentage) -> float:\n",
    "    if emp_index in emp_sal.keys():\n",
    "\n",
    "#making the sure the salary values are float\n",
    "        salary = float(emp_sal[emp_index])\n",
    "    else:\n",
    "        salary = float(emp[emp_index][basic_salary])\n",
    "\n",
    "    bonus = float(salary * bonus_percentage)\n",
    "    total_salary = bonus + salary\n",
    "    return total_salary"
   ]
  },
  {
   "cell_type": "code",
   "execution_count": 9,
   "metadata": {},
   "outputs": [
    {
     "name": "stdout",
     "output_type": "stream",
     "text": [
      "\n",
      "first_name surname gender Total_Salary\n",
      "John Smiths M 51750.0\n",
      "Sunil Bates M 36225.0\n",
      "Eva Leung F 36600.0\n",
      "\n"
     ]
    }
   ],
   "source": [
    "#read and display the contents of a specified file\n",
    "with open(\"TotalSalary.txt\", \"w+\") as new_file:\n",
    "\n",
    "    new_file.write(\"first_name surname gender Total_Salary\\n\")\n",
    "\n",
    "# calculate the bonus based on the rank of the employee\n",
    "    for employee in emp[1:]:\n",
    "            \n",
    "        if employee[rank] == 'officer':\n",
    "            bonus_percentage = 0.20     \n",
    "        else:\n",
    "            bonus_percentage = 0.15\n",
    "\n",
    "#calculate the total_salary\n",
    "        total_salary = calculate_bonus(emp.index(employee), bonus_percentage)\n",
    "\n",
    "        new_file.write(f\"{employee[first_name]} {employee[surname]} {employee[gender]} {float(total_salary)}\\n\")   \n",
    "    \n",
    "    print()\n",
    "\n",
    "printfile(\"TotalSalary.txt\")\n",
    "\n",
    "        "
   ]
  },
  {
   "cell_type": "markdown",
   "metadata": {},
   "source": [
    "Q2."
   ]
  },
  {
   "cell_type": "code",
   "execution_count": 10,
   "metadata": {},
   "outputs": [],
   "source": [
    "# read and display the contents of a specified file\n",
    "new_emp = []\n",
    "\n",
    "# adding the data of the total salary file to a new array to sort it.\n",
    "with open(\"TotalSalary.txt\", \"r\") as new_file:\n",
    "    for new_employee in new_file:\n",
    "        new_data = new_employee.strip().split()\n",
    "        new_emp.append(new_data)\n",
    "\n",
    "#making sure the salary values are float\n",
    "    for new_employee in new_emp[1:]:\n",
    "        new_employee[3] = float(new_employee[3])"
   ]
  },
  {
   "cell_type": "code",
   "execution_count": 11,
   "metadata": {},
   "outputs": [],
   "source": [
    "# Sorting the new employee data based on Total_Salary in descending order\n",
    "header = new_emp[0]\n",
    "sorted_emp = sorted(new_emp[1:], key=lambda x: x[3], reverse=True)"
   ]
  },
  {
   "cell_type": "code",
   "execution_count": 12,
   "metadata": {},
   "outputs": [
    {
     "name": "stdout",
     "output_type": "stream",
     "text": [
      "\n",
      "File Sorted successfully\n",
      "\n",
      "first_name surname gender Total_Salary\n",
      "John Smiths M 51750.0\n",
      "Eva Leung F 36600.0\n",
      "Sunil Bates M 36225.0\n",
      "\n"
     ]
    }
   ],
   "source": [
    "# Writing the sorted data to a new file \"TotalSalarySorted.txt\"\n",
    "with open(\"TotalSalarySorted.txt\", \"w\") as sorted_new_file:\n",
    "    # Write the header to the file\n",
    "    sorted_new_file.write(\" \".join(header) + \"\\n\")\n",
    "    \n",
    "    # Write each sorted employee's data to the file\n",
    "    for new_employee in sorted_emp:\n",
    "        sorted_new_file.write(\" \".join(map(str, new_employee)) + \"\\n\")\n",
    "\n",
    "print()\n",
    "print(\"File Sorted successfully\")\n",
    "print()\n",
    "\n",
    "# Display the contents of the sorted file\n",
    "printfile(\"TotalSalarySorted.txt\")"
   ]
  },
  {
   "cell_type": "code",
   "execution_count": 13,
   "metadata": {},
   "outputs": [
    {
     "name": "stdout",
     "output_type": "stream",
     "text": [
      "Origial File\n",
      "\n",
      "first_name surname gender rank type basic_salary hours_worked\n",
      "John Smiths M manager monthly 45000.00\n",
      "Sunil Bates M senor hourly 700.00 45\n",
      "Eva Leung F officer monthly 30500.00\n",
      "\n",
      "\n",
      "New File with Total Salaries\n",
      "\n",
      "first_name surname gender Total_Salary\n",
      "John Smiths M 51750.0\n",
      "Sunil Bates M 36225.0\n",
      "Eva Leung F 36600.0\n",
      "\n",
      "\n",
      "Sorted File with Total Salaries\n",
      "\n",
      "first_name surname gender Total_Salary\n",
      "John Smiths M 51750.0\n",
      "Eva Leung F 36600.0\n",
      "Sunil Bates M 36225.0\n",
      "\n"
     ]
    }
   ],
   "source": [
    "# printing all 3 files.\n",
    "print(\"Origial File\")\n",
    "print()\n",
    "printfile(\"Employee.txt\")\n",
    "\n",
    "print()\n",
    "\n",
    "print(\"New File with Total Salaries\")\n",
    "print()\n",
    "printfile(\"TotalSalary.txt\")\n",
    "\n",
    "print()\n",
    "\n",
    "print(\"Sorted File with Total Salaries\")\n",
    "print()\n",
    "printfile(\"TotalSalarySorted.txt\")"
   ]
  }
 ],
 "metadata": {
  "kernelspec": {
   "display_name": "Python 3",
   "language": "python",
   "name": "python3"
  },
  "language_info": {
   "codemirror_mode": {
    "name": "ipython",
    "version": 3
   },
   "file_extension": ".py",
   "mimetype": "text/x-python",
   "name": "python",
   "nbconvert_exporter": "python",
   "pygments_lexer": "ipython3",
   "version": "3.11.9"
  }
 },
 "nbformat": 4,
 "nbformat_minor": 2
}
