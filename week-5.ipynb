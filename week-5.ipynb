{
 "cells": [
  {
   "cell_type": "code",
   "execution_count": 4,
   "metadata": {},
   "outputs": [],
   "source": [
    "def hello():\n",
    "    print (\"hello\")\n",
    "    print (\"class\")"
   ]
  },
  {
   "cell_type": "code",
   "execution_count": null,
   "metadata": {},
   "outputs": [
    {
     "name": "stdout",
     "output_type": "stream",
     "text": [
      "Start\n",
      "Going to call function\n",
      "hello\n",
      "class\n",
      "Out of function\n",
      "program finished\n"
     ]
    }
   ],
   "source": [
    "print('Start')\n",
    "print(\"Going to call function\")\n",
    "hello()\n",
    "print(\"Out of function\")\n",
    "print(\"program finished\")\n",
    "\n"
   ]
  },
  {
   "cell_type": "code",
   "execution_count": 7,
   "metadata": {},
   "outputs": [
    {
     "name": "stdout",
     "output_type": "stream",
     "text": [
      "I'm the first call to user defined function!\n",
      "Again, second call to the same function\n"
     ]
    }
   ],
   "source": [
    "# Function fefinition is here\n",
    "def printme(str):\n",
    "    \"This prints a passed string into this function\"\n",
    "    print (str)\n",
    "    return;\n",
    "\n",
    "#Now call the prime function\n",
    "printme(\"I'm the first call to user defined function!\")\n",
    "printme(\"Again, second call to the same function\")"
   ]
  },
  {
   "cell_type": "code",
   "execution_count": null,
   "metadata": {},
   "outputs": [],
   "source": [
    "def printme(line) -> None:\n",
    "    print(line)\n",
    "    return"
   ]
  },
  {
   "cell_type": "code",
   "execution_count": 2,
   "metadata": {},
   "outputs": [
    {
     "name": "stdout",
     "output_type": "stream",
     "text": [
      "Happy Diwali\n"
     ]
    }
   ],
   "source": [
    "printme(\"Happy Diwali\")"
   ]
  },
  {
   "cell_type": "code",
   "execution_count": null,
   "metadata": {},
   "outputs": [],
   "source": [
    "def greet (name):\n",
    "    print(\"Hello\", name,\"\\n Happy Diwali\")\n",
    "    print()\n",
    "    return"
   ]
  },
  {
   "cell_type": "code",
   "execution_count": 4,
   "metadata": {},
   "outputs": [
    {
     "name": "stdout",
     "output_type": "stream",
     "text": [
      "Hello Raju \n",
      " Happy Diwali\n",
      "\n",
      "Hello Lalu \n",
      " Happy Diwali\n",
      "\n",
      "Hello Yadav \n",
      " Happy Diwali\n",
      "\n"
     ]
    }
   ],
   "source": [
    "greet(\"Raju\")\n",
    "greet(\"Lalu\")\n",
    "greet(\"Yadav\")\n"
   ]
  },
  {
   "cell_type": "code",
   "execution_count": 18,
   "metadata": {},
   "outputs": [
    {
     "name": "stdout",
     "output_type": "stream",
     "text": [
      "Hello Shyam \n",
      " Happy Diwali\n",
      "\n",
      "Hello Ram \n",
      " Happy Diwali\n",
      "\n",
      "Hello Bro \n",
      " Happy Diwali\n",
      "\n"
     ]
    }
   ],
   "source": [
    "def intgreet():\n",
    "    name = input(\"Enter the name of the person you want to send the greeting to: \")\n",
    "    print(\"Hello\", name,\"\\n Happy Diwali\")\n",
    "    print()\n",
    "\n",
    "    lav = True\n",
    "    while(lav):\n",
    "        val = input(\"Do you want to continue the Greeting?(Y/N): \")\n",
    "\n",
    "        if(val == \"y\" or val == \"Y\"):\n",
    "            intgreet()\n",
    "            lav = True\n",
    "\n",
    "        else:\n",
    "            lav = False\n",
    "            break;\n",
    "\n",
    "intgreet()"
   ]
  },
  {
   "cell_type": "code",
   "execution_count": 11,
   "metadata": {},
   "outputs": [
    {
     "data": {
      "text/plain": [
       "90"
      ]
     },
     "execution_count": 11,
     "metadata": {},
     "output_type": "execute_result"
    }
   ],
   "source": [
    "def absval(no):\n",
    "    if no>0:\n",
    "        return no\n",
    "    else:\n",
    "        return -no\n",
    "    \n",
    "var = int(input(\"Enter a number\"))\n",
    "absval(var)"
   ]
  },
  {
   "cell_type": "code",
   "execution_count": 23,
   "metadata": {},
   "outputs": [
    {
     "name": "stdout",
     "output_type": "stream",
     "text": [
      "200\n"
     ]
    }
   ],
   "source": [
    "def maxoflist(arry):\n",
    "    mymax=0\n",
    "\n",
    "    for temp in arry:\n",
    "        if(temp > mymax):\n",
    "            mymax = temp\n",
    "    return mymax\n",
    "\n",
    "data = [100,40,50,60,70,80,200]\n",
    "\n",
    "max_data = maxoflist(data)\n",
    "print(max_data)\n"
   ]
  },
  {
   "cell_type": "code",
   "execution_count": 24,
   "metadata": {},
   "outputs": [
    {
     "name": "stdout",
     "output_type": "stream",
     "text": [
      "200\n"
     ]
    }
   ],
   "source": [
    "def maxoflist2(arry):\n",
    "    return max(arry)\n",
    "\n",
    "data = [100,40,50,60,70,80,200]\n",
    "\n",
    "max_data = maxoflist(data)\n",
    "print(max_data)"
   ]
  },
  {
   "cell_type": "code",
   "execution_count": null,
   "metadata": {},
   "outputs": [
    {
     "name": "stdout",
     "output_type": "stream",
     "text": [
      "Average Temp of the day Sunday is recorded at  11.333333333333334\n",
      "Average Temp of the day Monday is recorded at  12\n",
      "Average Temp of the day Tuesday is recorded at  13\n",
      "Done!\n"
     ]
    }
   ],
   "source": [
    "import statistics\n",
    "\n",
    "# A function that computes the mean temperature values \n",
    "\n",
    "def mean(day, temp):\n",
    "\n",
    "    mean = statistics.mean(temp)\n",
    "    print(\"Average Temp of the day\", day,\"is recorded at \",mean)\n",
    "    return mean\n",
    "    print()\n",
    "\n",
    "\n",
    "\n",
    "\n",
    "\n",
    "days = [\"Sunday\", \"Monday\", \"Tuesday\"]\n",
    "Sunday_temp = [10,11,13]\n",
    "Monday_temp = [11,12,13]\n",
    "Tuesday_temp = [12,13,14]\n",
    "\n",
    "for day in days:\n",
    "    if day == \"Sunday\":\n",
    "        mean(day, Sunday_temp)\n",
    "\n",
    "    elif day == \"Monday\":\n",
    "        mean(day, Monday_temp)\n",
    "\n",
    "    elif day == \"Tuesday\":\n",
    "        mean(day, Tuesday_temp)\n",
    "\n",
    "\n",
    "print(\"Done!\")\n",
    "\n"
   ]
  },
  {
   "cell_type": "code",
   "execution_count": 1,
   "metadata": {},
   "outputs": [
    {
     "name": "stdout",
     "output_type": "stream",
     "text": [
      "Please enter values for observations 1\n",
      "The values are:  56 ° 47 ´ 55 ´ ´\n",
      "Please enter values for observations 1\n",
      "Exception Error...Please enter numeric values.\n",
      "56 ° 47 ´ 55 ´ ´ --> 56.79861111111111\n",
      "Please enter values for observations 2\n",
      "The values are:  44 ° 55 ´ 66 ´ ´\n",
      "Please enter values for observations 2\n",
      "The values are:  67 ° 765 ´ 54 ´ ´\n",
      "Please enter values for observations 2\n",
      "The values are:  33 ° 33 ´ 23321 ´ ´\n",
      "Please enter values for observations 2\n",
      "Exception Error...Please enter numeric values.\n",
      "33 ° 33 ´ 23321 ´ ´ --> 40.028055555555554\n",
      "The first calculation is:  56.79861111111111\n",
      "The second calculation is:  40.028055555555554\n",
      "Abs Difference is = 16.770555555555553\n",
      "Mean is = 48.41333333333333\n"
     ]
    }
   ],
   "source": [
    "import statistics  # A library for finding useful math functions\n",
    "\n",
    "# A function that calculates based on degree, minutes, and seconds\n",
    "def calculator(degree, minutes, seconds):\n",
    "    calc = 0.0\n",
    "    calc = abs(degree) + (minutes / 60) + (seconds / 3600)\n",
    "    if degree > 0:\n",
    "        print(degree, chr(176), minutes, chr(180), seconds, chr(180), \"-->\", calc)\n",
    "    else:\n",
    "        print(degree, chr(176), minutes, chr(180), seconds, chr(180), \"--> -\", calc)\n",
    "    return calc\n",
    "\n",
    "# A function that prints useful stats\n",
    "def print_stats(calc):\n",
    "    print(\"The first calculation is:\", calc[0])\n",
    "    print(\"The second calculation is:\", calc[1])\n",
    "    print(\"Abs Difference is =\", abs(calc[1] - calc[0]))\n",
    "    print(\"Mean is =\", statistics.mean(calc))\n",
    "\n",
    "# Our program takes 2 observations as input and calculates their mean & difference\n",
    "count = 0\n",
    "calc = [0.0, 0.0]\n",
    "while count <= 1:\n",
    "    print(\"Please enter values for observation\", count + 1, \":\")\n",
    "    try:\n",
    "        degree = int(input(\"Enter degree: \"))\n",
    "        minutes = int(input(\"Enter minutes: \"))\n",
    "        seconds = int(input(\"Enter seconds: \"))\n",
    "        print(\"Values are Degree:\", degree, chr(176), \"Minutes:\", minutes, chr(180), \"Seconds:\", seconds)\n",
    "        # We store result in the calc array\n",
    "        calc[count] = calculator(degree, minutes, seconds)\n",
    "        count += 1\n",
    "    except ValueError:\n",
    "        print(\"Exception Error...Please enter numeric values.\")\n",
    "\n",
    "# Print stats\n",
    "print_stats(calc)\n"
   ]
  },
  {
   "cell_type": "code",
   "execution_count": null,
   "metadata": {},
   "outputs": [],
   "source": []
  }
 ],
 "metadata": {
  "kernelspec": {
   "display_name": "Python 3",
   "language": "python",
   "name": "python3"
  },
  "language_info": {
   "codemirror_mode": {
    "name": "ipython",
    "version": 3
   },
   "file_extension": ".py",
   "mimetype": "text/x-python",
   "name": "python",
   "nbconvert_exporter": "python",
   "pygments_lexer": "ipython3",
   "version": "3.11.9"
  }
 },
 "nbformat": 4,
 "nbformat_minor": 2
}
