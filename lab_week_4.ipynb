{
 "cells": [
  {
   "cell_type": "code",
   "execution_count": 1,
   "metadata": {},
   "outputs": [],
   "source": [
    "import slab"
   ]
  },
  {
   "cell_type": "code",
   "execution_count": 2,
   "metadata": {},
   "outputs": [
    {
     "name": "stdout",
     "output_type": "stream",
     "text": [
      "The number is:  5\n",
      "The number is:  4\n",
      "The number is:  3\n",
      "The number is:  2\n",
      "The number is:  1\n",
      "Out of Loop!\n"
     ]
    }
   ],
   "source": [
    "# prints the number in the loop\n",
    "for i in [5,4,3,2,1]:\n",
    "    print(\"The number is: \",i)\n",
    "print(\"Out of Loop!\")"
   ]
  },
  {
   "cell_type": "code",
   "execution_count": 3,
   "metadata": {},
   "outputs": [
    {
     "name": "stdout",
     "output_type": "stream",
     "text": [
      "X : 0\n",
      "X : 1\n",
      "X : 2\n",
      "X : 3\n",
      "X : 4\n",
      "\n",
      "X: 3\n",
      "X: 4\n",
      "X: 5\n",
      "\n",
      "X; 3\n",
      "X; 5\n",
      "X; 7\n"
     ]
    }
   ],
   "source": [
    "# numbers in a range\n",
    "\n",
    "for x in range(5):\n",
    "    print(\"X :\",x)\n",
    "print()\n",
    "\n",
    "# to print from 3 to 6\n",
    "for x in range(3,6):\n",
    "    print(\"X:\",x)\n",
    "print()\n",
    "\n",
    "# to print with 2 spaces apart\n",
    "for x in range(3,8,2):\n",
    "    print(\"X;\",x) \n",
    "\n"
   ]
  },
  {
   "cell_type": "code",
   "execution_count": 4,
   "metadata": {},
   "outputs": [
    {
     "name": "stdout",
     "output_type": "stream",
     "text": [
      "Happy New Year Raelear.\n",
      "Happy New Year Vlomolv.\n",
      "Happy New Year Plosolp.\n",
      "Done with the greetings.\n"
     ]
    }
   ],
   "source": [
    "#From a list of strings.\n",
    "\n",
    "Friends = [\"Raelear\", \"Vlomolv\", \"Plosolp\"]\n",
    "\n",
    "for myfriend in  Friends:\n",
    "    print(\"Happy New Year \"+myfriend+\".\")\n",
    "\n",
    "print(\"Done with the greetings.\")"
   ]
  },
  {
   "cell_type": "code",
   "execution_count": 5,
   "metadata": {},
   "outputs": [
    {
     "name": "stdout",
     "output_type": "stream",
     "text": [
      "the value is: 101\n",
      "the value is: 100\n"
     ]
    }
   ],
   "source": [
    "# while loop with a generic condition.\n",
    "\n",
    "value = 101\n",
    "\n",
    "while value >=100:\n",
    "    print(\"the value is:\",value)\n",
    "    value -= 1"
   ]
  },
  {
   "cell_type": "code",
   "execution_count": 6,
   "metadata": {},
   "outputs": [
    {
     "name": "stdout",
     "output_type": "stream",
     "text": [
      "Thank You for using the program. :)\n",
      "\n",
      "You entered 2 numbers\n",
      "The total sum of the numbers is 8\n",
      "Average is 4.0\n"
     ]
    }
   ],
   "source": [
    "def InterWhileLoop():\n",
    "    sum = 0\n",
    "    count = 0\n",
    "\n",
    "\n",
    "    while True:\n",
    "        fstno = int(input(\"Enter the number you want to add: \"))\n",
    "        count += 1\n",
    "        \n",
    "        sum = fstno + sum;\n",
    "        \n",
    "        val = input(\"Do you want to add another number? (y/n): \").lower()\n",
    "        if val ==\"y\":\n",
    "            continue;        \n",
    "\n",
    "        else:\n",
    "            print(\"Thank You for using the program. :)\")\n",
    "            print()\n",
    "            break;\n",
    "\n",
    "    avg = sum/count;\n",
    "\n",
    "    print(\"You entered\",count,\"numbers\")\n",
    "    print(\"The total sum of the numbers is\",sum)\n",
    "    print(\"Average is\", avg)\n",
    "\n",
    "InterWhileLoop()"
   ]
  },
  {
   "cell_type": "code",
   "execution_count": 7,
   "metadata": {},
   "outputs": [
    {
     "name": "stdout",
     "output_type": "stream",
     "text": [
      "\n",
      "\n",
      "1 \n",
      "\n",
      "2 2 \n",
      "\n",
      "3 3 3 \n",
      "\n",
      "4 4 4 4 \n",
      "\n",
      "5 5 5 5 5 \n",
      "\n",
      "6 6 6 6 6 6 \n",
      "\n",
      "7 7 7 7 7 7 7 \n",
      "\n",
      "8 8 8 8 8 8 8 8 \n",
      "\n",
      "9 9 9 9 9 9 9 9 9 \n",
      "\n"
     ]
    }
   ],
   "source": [
    "for num in range (10):\n",
    "    for i in range(num):\n",
    "        print (num, end=\" \")#print number\n",
    "    #new line after each row to display pattern correctly.\n",
    "    print(\"\\n\")"
   ]
  },
  {
   "cell_type": "code",
   "execution_count": 8,
   "metadata": {},
   "outputs": [
    {
     "name": "stdout",
     "output_type": "stream",
     "text": [
      "Temperature on  Sunday was recorded as: \n",
      "10\n",
      "11\n",
      "13\n",
      "Average is :  11.333333333333334\n",
      "Temperature on  Monday was recorded as: \n",
      "11\n",
      "12\n",
      "13\n",
      "Average is :  12.0\n",
      "Temperature on  Tuesday was recorded as: \n",
      "12\n",
      "13\n",
      "14\n",
      "Average is :  13.0\n",
      "Out of all loops\n"
     ]
    }
   ],
   "source": [
    "days = [\"Sunday\", \"Monday\",\"Tuesday\"]\n",
    "Sunday_temp = [10, 11, 13]\n",
    "Monday_temp = [11, 12, 13]\n",
    "Tuesday_temp = [12, 13, 14]\n",
    "\n",
    "for day in days:\n",
    "    print(\"Temperature on \",day,\"was recorded as: \",)\n",
    "    averageTemp = 0.0\n",
    "    count = 0\n",
    "\n",
    "    if (day == \"Sunday\"):\n",
    "        \n",
    "        for temp in Sunday_temp:\n",
    "            print(temp)\n",
    "            averageTemp = averageTemp + temp;\n",
    "            count = count + 1;\n",
    "        \n",
    "    elif (day == \"Monday\"):\n",
    "\n",
    "        for temp in Monday_temp:\n",
    "            print(temp)\n",
    "            averageTemp = averageTemp + temp;\n",
    "            count = count + 1;\n",
    "    else:\n",
    "        for temp in Tuesday_temp:\n",
    "            print(temp)\n",
    "            averageTemp = averageTemp + temp;\n",
    "            count = count + 1;  \n",
    "\n",
    "    print(\"Average is : \", averageTemp/count)\n",
    "\n",
    "print(\"Out of all loops\")"
   ]
  },
  {
   "cell_type": "code",
   "execution_count": 9,
   "metadata": {},
   "outputs": [
    {
     "name": "stdout",
     "output_type": "stream",
     "text": [
      "3 ° 3 ´ 3 ´ ´ --> 3.0508333333333333\n",
      "Good bye!\n"
     ]
    }
   ],
   "source": [
    "degree = 0\n",
    "minutes = 0\n",
    "seconds = 0\n",
    "calc = 0.0\n",
    "\n",
    "while(True):\n",
    "    val = input(\"Do you want to enter a number? (y/n)\")\n",
    "\n",
    "    if(val == \"Y\" or val ==\"y\"):\n",
    "        try:\n",
    "            degree = int (input(\"Enter the degree:\"))\n",
    "            minutes = int(input(\"Enter the minutes:\"))\n",
    "            seconds = int(input(\"Enter the Second:\"))\n",
    "\n",
    "            calc = abs(degree) + abs(minutes/60) + abs(seconds/3600)\n",
    "            if(degree > 0):\n",
    "                print(degree, chr(176), minutes, chr(180), seconds, chr(180), chr(180), '-->', calc)\n",
    "            else:\n",
    "                print(degree, chr(176), minutes, chr(180), seconds, chr(180), chr(180), '--> -', calc)\n",
    "\n",
    "        except:\n",
    "            print(\"Exception Erroe...Please enter numeric values.\")\n",
    "\n",
    "    else:\n",
    "        print(\"Good bye!\")\n",
    "        break;\n",
    "\n"
   ]
  }
 ],
 "metadata": {
  "kernelspec": {
   "display_name": "Python 3",
   "language": "python",
   "name": "python3"
  },
  "language_info": {
   "codemirror_mode": {
    "name": "ipython",
    "version": 3
   },
   "file_extension": ".py",
   "mimetype": "text/x-python",
   "name": "python",
   "nbconvert_exporter": "python",
   "pygments_lexer": "ipython3",
   "version": "3.11.9"
  }
 },
 "nbformat": 4,
 "nbformat_minor": 2
}
